{
 "cells": [
  {
   "cell_type": "markdown",
   "metadata": {},
   "source": [
    "# Tutorial of reshape to find index\n",
    "When a feature map passed through nodes such as `ReshapeNode` or `PermuteNode`, the pruning index is changing. We need to calculate the new dim of the pruning index. \n"
   ]
  },
  {
   "cell_type": "markdown",
   "metadata": {},
   "source": [
    "## A cheating solution:"
   ]
  },
  {
   "cell_type": "markdown",
   "metadata": {},
   "source": [
    "### 1. create a new tensor `input_index` from `input`: "
   ]
  },
  {
   "cell_type": "code",
   "execution_count": 28,
   "metadata": {},
   "outputs": [],
   "source": [
    "import torch\n",
    "# init input, prune_dim, and prune index\n",
    "input = torch.randn(2, 3, 4, 5)\n",
    "prune_dim = 2\n",
    "prune_idx = torch.tensor([1, 2])\n",
    "\n",
    "input_index = torch.zeros_like(input)"
   ]
  },
  {
   "cell_type": "markdown",
   "metadata": {},
   "source": [
    "### 2. assign `1` to pruning index in dim:"
   ]
  },
  {
   "cell_type": "code",
   "execution_count": 29,
   "metadata": {},
   "outputs": [
    {
     "name": "stdout",
     "output_type": "stream",
     "text": [
      "(slice(None, None, None), slice(None, None, None), tensor([1, 2]), slice(None, None, None))\n"
     ]
    }
   ],
   "source": [
    "index_tuple = (  # index_tuple = (:, :, prune_idx, :)\n",
    "    (slice(None),) * (prune_dim)\n",
    "    + (prune_idx,)\n",
    "    + (slice(None),) * (len(input.shape) - prune_dim - 1)\n",
    ") \n",
    "print(index_tuple)\n",
    "input_index[index_tuple] = 1"
   ]
  },
  {
   "cell_type": "markdown",
   "metadata": {},
   "source": [
    "### 3. transform the `input_index`:"
   ]
  },
  {
   "cell_type": "code",
   "execution_count": 30,
   "metadata": {},
   "outputs": [
    {
     "name": "stdout",
     "output_type": "stream",
     "text": [
      "{0, 1, 2, 3, 4, 5}\n",
      "{5, 6, 7, 8, 9, 10, 11, 12, 13, 14}\n"
     ]
    }
   ],
   "source": [
    "output_index = input_index.reshape(6, 20)\n",
    "# index of output dim 0 (not the prune_dim)\n",
    "print(set(torch.nonzero(output_index)[:, 0].tolist()))\n",
    "# index of output dim 1 (where the prune_dim)\n",
    "print(set(torch.nonzero(output_index)[:, 1].tolist()))"
   ]
  },
  {
   "cell_type": "markdown",
   "metadata": {},
   "source": [
    "Now, we could find the prune index is changed from `[1, 2]` to `[5, 6, 7, 8, 9, 10, 11, 12, 13, 14]`."
   ]
  }
 ],
 "metadata": {
  "kernelspec": {
   "display_name": "unip",
   "language": "python",
   "name": "python3"
  },
  "language_info": {
   "codemirror_mode": {
    "name": "ipython",
    "version": 3
   },
   "file_extension": ".py",
   "mimetype": "text/x-python",
   "name": "python",
   "nbconvert_exporter": "python",
   "pygments_lexer": "ipython3",
   "version": "3.11.4"
  },
  "orig_nbformat": 4
 },
 "nbformat": 4,
 "nbformat_minor": 2
}
