{
 "cells": [
  {
   "cell_type": "markdown",
   "metadata": {},
   "source": [
    "# Tutorial of wrapper\n",
    "The wrapper is used for `energy` calculation."
   ]
  },
  {
   "cell_type": "markdown",
   "metadata": {},
   "source": [
    "## Basic usage"
   ]
  },
  {
   "cell_type": "code",
   "execution_count": 1,
   "metadata": {},
   "outputs": [
    {
     "name": "stdout",
     "output_type": "stream",
     "text": [
      "==================== start ====================\n",
      "Hello, Unip!\n",
      "==================== end ====================\n",
      "========== time: 0.0003390312194824219 ==========\n"
     ]
    }
   ],
   "source": [
    "import functools\n",
    "import time\n",
    "\n",
    "def add_front_print(func):\n",
    "    @functools.wraps(func)\n",
    "    def wrapper(*args, **kwargs):\n",
    "        start_time = time.time()\n",
    "        print('='*20, 'start', '='*20)\n",
    "        func(*args, **kwargs)\n",
    "        print('='*20, 'end', '='*20)\n",
    "        end_time = time.time()\n",
    "        print('='*10, 'time:', end_time - start_time, '='*10)\n",
    "    return wrapper\n",
    "\n",
    "@add_front_print\n",
    "def print_hello_unip():\n",
    "    print('Hello, Unip!')\n",
    "\n",
    "print_hello_unip()"
   ]
  },
  {
   "cell_type": "markdown",
   "metadata": {},
   "source": [
    "## Advanced for other function parameters"
   ]
  },
  {
   "cell_type": "code",
   "execution_count": 2,
   "metadata": {},
   "outputs": [
    {
     "name": "stdout",
     "output_type": "stream",
     "text": [
      "==================== start ====================\n",
      "Hello, Unip!\n",
      "Hello, Unip!\n",
      "Hello, Unip!\n",
      "Hello, Unip!\n",
      "Hello, Unip!\n",
      "Hello, Unip!\n",
      "Hello, Unip!\n",
      "Hello, Unip!\n",
      "Hello, Unip!\n",
      "Hello, Unip!\n",
      "==================== end ====================\n",
      "========== time: 8.0108642578125e-05 ==========\n"
     ]
    }
   ],
   "source": [
    "import functools\n",
    "import time\n",
    "\n",
    "def add_front_print_and_repeat(num):\n",
    "    def wrapper(func):\n",
    "        @functools.wraps(func)\n",
    "        def wrapper(*args, **kwargs):\n",
    "            start_time = time.time()\n",
    "            print('='*20, 'start', '='*20)\n",
    "            for i in range(num):\n",
    "                func(*args, **kwargs)\n",
    "            print('='*20, 'end', '='*20)\n",
    "            end_time = time.time()\n",
    "            print('='*10, 'time:', end_time - start_time, '='*10)\n",
    "        return wrapper\n",
    "    return wrapper\n",
    "\n",
    "@add_front_print_and_repeat(10)\n",
    "def print_hello_unip():\n",
    "    print('Hello, Unip!')\n",
    "\n",
    "print_hello_unip()"
   ]
  }
 ],
 "metadata": {
  "kernelspec": {
   "display_name": "unip",
   "language": "python",
   "name": "python3"
  },
  "language_info": {
   "codemirror_mode": {
    "name": "ipython",
    "version": 3
   },
   "file_extension": ".py",
   "mimetype": "text/x-python",
   "name": "python",
   "nbconvert_exporter": "python",
   "pygments_lexer": "ipython3",
   "version": "3.11.4"
  },
  "orig_nbformat": 4
 },
 "nbformat": 4,
 "nbformat_minor": 2
}
