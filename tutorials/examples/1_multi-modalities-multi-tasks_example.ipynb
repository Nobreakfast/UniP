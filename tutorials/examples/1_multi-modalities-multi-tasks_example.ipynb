{
 "cells": [
  {
   "cell_type": "markdown",
   "metadata": {},
   "source": [
    "# Multi-Modalities Multi-Tasks Example"
   ]
  },
  {
   "cell_type": "code",
   "execution_count": 38,
   "metadata": {},
   "outputs": [],
   "source": [
    "# define a model with multi-modalities and multi-tasks\n",
    "import torch\n",
    "import torch.nn as nn\n",
    "import torch.nn.functional as F\n",
    "\n",
    "class SingleModality(nn.Module):\n",
    "    def __init__(self):\n",
    "        super().__init__()\n",
    "        self.conv1 = nn.Conv2d(3, 16, 3, 1, 1)\n",
    "        self.conv2 = nn.Conv2d(16, 32, 3, 1, 1)\n",
    "        self.flat = nn.Flatten()\n",
    "        self.task1 = nn.Linear(32*32*32, 10)\n",
    "        self.task2 = nn.Linear(32*32*32, 10)\n",
    "\n",
    "    def forward(self, x):\n",
    "        x = self.conv1(x)\n",
    "        x = self.conv2(x)\n",
    "        x = self.flat(x)\n",
    "        task1 = self.task1(x)\n",
    "        task2 = self.task2(x)\n",
    "        return task1, task2\n",
    "\n",
    "class MMMT(nn.Module):\n",
    "    def __init__(self):\n",
    "        super().__init__()\n",
    "        self.modality1 = SingleModality()\n",
    "        self.modality2 = SingleModality()\n",
    "\n",
    "    def forward(self, x1, x2):\n",
    "        task1_1, task2_1 = self.modality1(x1)\n",
    "        task1_2, task2_2 = self.modality2(x2)\n",
    "        task1 = task1_1 + task1_2\n",
    "        task2 = task2_1 + task2_2\n",
    "        return task1, task2"
   ]
  },
  {
   "cell_type": "code",
   "execution_count": 39,
   "metadata": {},
   "outputs": [
    {
     "name": "stdout",
     "output_type": "stream",
     "text": [
      "original model:\n",
      "('11.633M', '1.321M')\n"
     ]
    }
   ],
   "source": [
    "from unip.core.pruner import BasePruner\n",
    "from unip.utils.evaluation import cal_flops\n",
    "\n",
    "model = MMMT()\n",
    "\n",
    "# note: we need to set the `requires_grad=True` to connect the input\n",
    "#       to the graph\n",
    "example_input = [\n",
    "    torch.rand(1, 3, 32, 32, requires_grad=True),\n",
    "    torch.rand(1, 3, 32, 32, requires_grad=True)]\n",
    "\n",
    "# calculate the flops of the original model\n",
    "print(\"original model:\")\n",
    "flops_ori, params_ori = cal_flops(model, example_input)\n"
   ]
  },
  {
   "cell_type": "markdown",
   "metadata": {},
   "source": [
    "## define MTU ratio\n",
    "The final ratio of each layer is the product of the ratio of setting,\n",
    "each modality, and each task:\n",
    "    $$\\rho = \\rho_{setting} * \\rho_{MTU},$$\n",
    "where the $\\rho_{MTU}$ is:\n",
    "    $$\\rho_{MTU} = \\frac{1}{N}\\sum_{i=0}^{N-1} MTU_{i}.$$\n",
    "\n",
    "Let's assume you want to prune the modules influenced by the `input_0`, and the `output_1`, and the MTU of each module is:"
   ]
  },
  {
   "cell_type": "code",
   "execution_count": 40,
   "metadata": {},
   "outputs": [],
   "source": [
    "# if you want to consider multiple modalities and multiple tasks:\n",
    "MTU = {\n",
    "    \"input_0\": 0.5,\n",
    "    \"input_1\": 0,\n",
    "    \"output_0\": 0,\n",
    "    \"output_1\": 0.5,\n",
    "}\n",
    "# if your want to consider single modality or single task:\n",
    "# MTU = {\n",
    "#     \"input_0\": 0.5,\n",
    "#     \"output_0\": 0.5,\n",
    "# }\n",
    "\n",
    "# note:\n",
    "#  1. the difference between of above two MTU is that the former one\n",
    "#     will consider calculate the mean of the all the modalities and\n",
    "#     tasks if they have the same tag of MTU. \n",
    "# \n",
    "#  2. The latter one will calculate the mean of the \"input_0\" and \n",
    "#     \"output_0\" only.\n",
    "#\n",
    "#  3. Thus, the prune ratio of former one is a little bit smaller than the\n",
    "#     latter one if the other name in MTU is 0. The saved ratio of former\n",
    "#     one is larger than the latter one.\n",
    "\n"
   ]
  },
  {
   "cell_type": "code",
   "execution_count": 41,
   "metadata": {},
   "outputs": [
    {
     "name": "stdout",
     "output_type": "stream",
     "text": [
      "pruned model:\n",
      "('10.666M', '1.238M')\n"
     ]
    }
   ],
   "source": [
    "# define a pruner\n",
    "pruner = BasePruner(\n",
    "    model,\n",
    "    example_input,\n",
    "    \"MTURatio\",\n",
    "    algo_args={\n",
    "        \"score_fn\": \"weight_sum_l1_out\",\n",
    "        \"MTU\": MTU,\n",
    "    },\n",
    ")\n",
    "\n",
    "# prune the model\n",
    "pruner.prune(0.3)\n",
    "\n",
    "# calculate the flops of the pruned model\n",
    "print(\"pruned model:\")\n",
    "flops_pruned, params_pruned = cal_flops(model, example_input)"
   ]
  }
 ],
 "metadata": {
  "kernelspec": {
   "display_name": "unip",
   "language": "python",
   "name": "python3"
  },
  "language_info": {
   "codemirror_mode": {
    "name": "ipython",
    "version": 3
   },
   "file_extension": ".py",
   "mimetype": "text/x-python",
   "name": "python",
   "nbconvert_exporter": "python",
   "pygments_lexer": "ipython3",
   "version": "3.11.4"
  },
  "orig_nbformat": 4
 },
 "nbformat": 4,
 "nbformat_minor": 2
}
