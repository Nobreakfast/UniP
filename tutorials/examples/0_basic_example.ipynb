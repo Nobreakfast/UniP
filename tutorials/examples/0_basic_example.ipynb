{
 "cells": [
  {
   "cell_type": "markdown",
   "metadata": {},
   "source": [
    "# Basic example"
   ]
  },
  {
   "cell_type": "code",
   "execution_count": 4,
   "metadata": {},
   "outputs": [
    {
     "name": "stdout",
     "output_type": "stream",
     "text": [
      "original model:\n",
      "('1.824G', '11.690M')\n",
      "pruned model:\n",
      "('927.553M', '5.868M')\n"
     ]
    }
   ],
   "source": [
    "import torch\n",
    "import torchvision.models as models\n",
    "from unip.core.pruner import BasePruner\n",
    "from unip.utils.evaluation import cal_flops\n",
    "\n",
    "model = models.resnet18()\n",
    "\n",
    "# note: we need to set the `requires_grad=True` to connect the input\n",
    "#       to the graph\n",
    "example_input = torch.rand(1, 3, 224, 224, requires_grad=True)\n",
    "\n",
    "# calculate the flops of the original model\n",
    "print(\"original model:\")\n",
    "flops_ori, params_ori = cal_flops(model, example_input)\n",
    "\n",
    "# define a pruner\n",
    "pruner = BasePruner(\n",
    "    model,\n",
    "    example_input,\n",
    "    \"UniformRatio\",\n",
    "    algo_args={\"score_fn\": \"weight_sum_l1_out\"},\n",
    ")\n",
    "\n",
    "# prune the model\n",
    "pruner.prune(0.3)\n",
    "\n",
    "# calculate the flops of the pruned model\n",
    "print(\"pruned model:\")\n",
    "flops_pruned, params_pruned = cal_flops(model, example_input)\n"
   ]
  }
 ],
 "metadata": {
  "kernelspec": {
   "display_name": "unip",
   "language": "python",
   "name": "python3"
  },
  "language_info": {
   "codemirror_mode": {
    "name": "ipython",
    "version": 3
   },
   "file_extension": ".py",
   "mimetype": "text/x-python",
   "name": "python",
   "nbconvert_exporter": "python",
   "pygments_lexer": "ipython3",
   "version": "3.11.4"
  },
  "orig_nbformat": 4
 },
 "nbformat": 4,
 "nbformat_minor": 2
}
