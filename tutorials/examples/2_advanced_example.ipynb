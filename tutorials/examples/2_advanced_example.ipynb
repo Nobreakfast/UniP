{
 "cells": [
  {
   "cell_type": "markdown",
   "metadata": {},
   "source": [
    "# Advanced example"
   ]
  },
  {
   "cell_type": "markdown",
   "metadata": {},
   "source": [
    "Some special module does not have the pre-defined Node in `UniP`. We could write a `CustomNode` for it.\n",
    "\n",
    "Let's take the `DCN` for example (although it has been added to `unip/core/node.py`):"
   ]
  },
  {
   "cell_type": "code",
   "execution_count": 11,
   "metadata": {},
   "outputs": [],
   "source": [
    "import torch.nn as nn\n",
    "from unip.core.node import InOutNode, CustomNode\n",
    "from unip.utils.prune_ops import *\n",
    "\n",
    "class dcnNode(InOutNode, CustomNode):\n",
    "    def __init__(self, name: str, module: nn.Module, grad) -> None:\n",
    "        super().__init__(name, module, grad)\n",
    "        self.in_channels = module.offset_conv.in_channels\n",
    "        self.out_channels = module.regular_conv.out_channels\n",
    "        self.param = [module.regular_conv.weight.data]\n",
    "        if module.regular_conv.bias is not None:\n",
    "            self.param.append(module.regular_conv.bias.data)\n",
    "\n",
    "    def prune(self):\n",
    "        self.saved_idx[IDX_IN] = get_saved_idx(\n",
    "            self.prune_idx[IDX_IN], self.module.offset_conv.weight.shape[DIM_IN]\n",
    "        )\n",
    "        self.saved_idx[IDX_OUT] = get_saved_idx(\n",
    "            self.prune_idx[IDX_OUT], self.module.regular_conv.weight.shape[DIM_OUT]\n",
    "        )\n",
    "        prune_conv(self.module.offset_conv, self.saved_idx[IDX_IN], DIM_IN)\n",
    "        prune_conv(self.module.modulator_conv, self.saved_idx[IDX_IN], DIM_IN)\n",
    "        prune_conv(self.module.regular_conv, self.saved_idx[IDX_IN], DIM_IN)\n",
    "        prune_conv(self.module.regular_conv, self.saved_idx[IDX_OUT], DIM_OUT)\n",
    "\n",
    "    def get_attr(self):\n",
    "        return {\n",
    "            \"offset_conv.weight.data\": self.module.offset_conv.weight.data,\n",
    "            \"offset_conv.bias.data\": self.module.offset_conv.bias.data\n",
    "            if self.module.offset_conv.bias is not None\n",
    "            else None,\n",
    "            \"offset_conv.in_channels\": self.module.offset_conv.in_channels,\n",
    "            \"modulator_conv.weight.data\": self.module.modulator_conv.weight.data,\n",
    "            \"modulator_conv.bias.data\": self.module.modulator_conv.bias.data\n",
    "            if self.module.modulator_conv.bias is not None\n",
    "            else None,\n",
    "            \"modulator_conv.in_channels\": self.module.modulator_conv.in_channels,\n",
    "            \"regular_conv.weight.data\": self.module.regular_conv.weight.data,\n",
    "            \"regular_conv.bias.data\": self.module.regular_conv.bias.data\n",
    "            if self.module.regular_conv.bias is not None\n",
    "            else None,\n",
    "            \"regular_conv.in_channels\": self.module.regular_conv.in_channels,\n",
    "            \"regular_conv.out_channels\": self.module.regular_conv.out_channels,\n",
    "        }"
   ]
  },
  {
   "cell_type": "markdown",
   "metadata": {},
   "source": [
    "And then, add a `igtype2nodetype` dict for this module:"
   ]
  },
  {
   "cell_type": "code",
   "execution_count": 12,
   "metadata": {},
   "outputs": [],
   "source": [
    "import sys\n",
    "sys.path.append(\"../../tests/\")\n",
    "from model.backbone.conv_utils.dcn import DeformableConv2d\n",
    "igtype2nodetype = {DeformableConv2d: dcnNode}"
   ]
  },
  {
   "cell_type": "code",
   "execution_count": 13,
   "metadata": {},
   "outputs": [
    {
     "name": "stdout",
     "output_type": "stream",
     "text": [
      "original model:\n",
      "('184.413M', '40.887K')\n",
      "pruned model:\n",
      "('157.885M', '32.123K')\n"
     ]
    }
   ],
   "source": [
    "import torch\n",
    "from model.radarnet import RCNet\n",
    "from unip.core.pruner import BasePruner\n",
    "from unip.utils.evaluation import cal_flops\n",
    "\n",
    "# load model and example input\n",
    "model = RCNet(in_channels=3)\n",
    "example_input = torch.randn(1, 3, 320, 320, requires_grad=True)\n",
    "\n",
    "# record the flops and params\n",
    "print(\"original model:\")\n",
    "flops_ori, params_ori = cal_flops(model, example_input)\n",
    "\n",
    "# define pruner\n",
    "BP = BasePruner(\n",
    "    model,\n",
    "    example_input,\n",
    "    \"UniformRatio\",\n",
    "    algo_args={\"score_fn\": \"weight_sum_l1_out\"}, \n",
    "    igtype2nodetype=igtype2nodetype,\n",
    ")\n",
    "BP.prune(0.3)\n",
    "\n",
    "# record the flops and params\n",
    "print(\"pruned model:\")\n",
    "flops_pruned, params_pruned = cal_flops(model, example_input)"
   ]
  }
 ],
 "metadata": {
  "kernelspec": {
   "display_name": "unip",
   "language": "python",
   "name": "python3"
  },
  "language_info": {
   "codemirror_mode": {
    "name": "ipython",
    "version": 3
   },
   "file_extension": ".py",
   "mimetype": "text/x-python",
   "name": "python",
   "nbconvert_exporter": "python",
   "pygments_lexer": "ipython3",
   "version": "3.11.4"
  },
  "orig_nbformat": 4
 },
 "nbformat": 4,
 "nbformat_minor": 2
}
